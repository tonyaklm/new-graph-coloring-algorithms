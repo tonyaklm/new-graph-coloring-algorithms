{
  "nbformat": 4,
  "nbformat_minor": 0,
  "metadata": {
    "colab": {
      "provenance": []
    },
    "kernelspec": {
      "name": "python3",
      "display_name": "Python 3"
    },
    "language_info": {
      "name": "python"
    }
  },
  "cells": [
    {
      "cell_type": "markdown",
      "source": [
        "Класс для графа"
      ],
      "metadata": {
        "id": "ADMS4o82PYKp"
      }
    },
    {
      "cell_type": "code",
      "source": [
        "class Graph:\n",
        "    def __init__(self, n: int):\n",
        "        self.n: int = n # number of vertex\n",
        "        self.adj:list = [[] for i in range(n)] # An array of adjacency lists\n",
        "\n",
        "    def add_edge(self, v: int, w: int):\n",
        "        self.adj[w].append(v)\n",
        "        self.adj[v].append(w)"
      ],
      "metadata": {
        "id": "VIyZ1zV1PbHb"
      },
      "execution_count": 79,
      "outputs": []
    },
    {
      "cell_type": "markdown",
      "source": [
        "Функции для подсчета разных степеней"
      ],
      "metadata": {
        "id": "MU0L8tjpjP1h"
      }
    },
    {
      "cell_type": "code",
      "source": [
        "def saturated_degree(graph: Graph, index: int, colors: list): # подсчет степени насыщенности\n",
        "    used_colors = set()\n",
        "    for neighbour in graph.adj[index]:\n",
        "        if colors[neighbour]:\n",
        "            used_colors.add(colors[neighbour])\n",
        "    return len(used_colors)"
      ],
      "metadata": {
        "id": "rXigcZQYQ7GH"
      },
      "execution_count": 80,
      "outputs": []
    },
    {
      "cell_type": "code",
      "source": [
        "def incidence_degree(graph: Graph, index: int, colors: list): # подсчет степени инцидентности\n",
        "    inc_degree = 0\n",
        "    for vertex in graph.adj[index]:\n",
        "        inc_degree += colors[vertex] != 0\n",
        "    return inc_degree"
      ],
      "metadata": {
        "id": "5295pF_jQ7mW"
      },
      "execution_count": 81,
      "outputs": []
    },
    {
      "cell_type": "code",
      "source": [
        "def large_degree(graph: Graph, index: int): # подсчет количества соседей\n",
        "    return len(graph.adj[index])"
      ],
      "metadata": {
        "id": "niglBECHTM2M"
      },
      "execution_count": 82,
      "outputs": []
    },
    {
      "cell_type": "markdown",
      "source": [
        "Раскраска новой вершины и выбор для нее цвета"
      ],
      "metadata": {
        "id": "JhqB7bTjjTHG"
      }
    },
    {
      "cell_type": "code",
      "source": [
        "def color(graph: Graph, index: int, colors: list): # раскраска новой вершины\n",
        "    used_colors = []\n",
        "    for neighbour in graph.adj[index]:\n",
        "        if colors[neighbour]:\n",
        "            used_colors.append(colors[neighbour])\n",
        "\n",
        "    for color in range(1, graph.n + 1):\n",
        "        if color not in used_colors:\n",
        "            colors[index] = color\n",
        "            return"
      ],
      "metadata": {
        "id": "dcGSdQ0jRT-a"
      },
      "execution_count": 83,
      "outputs": []
    },
    {
      "cell_type": "markdown",
      "source": [
        "Для начала создадим код SDO раскраски (Saturated Degree Ordering)"
      ],
      "metadata": {
        "id": "k-qFhDxGOD-u"
      }
    },
    {
      "cell_type": "code",
      "source": [
        "def SDO(graph: Graph):\n",
        "    colors = [0] * graph.n\n",
        "    no_of_colored_nodes = 0\n",
        "    while no_of_colored_nodes < graph.n:\n",
        "        max_degree = -1\n",
        "        index = -1\n",
        "        for i in range(graph.n):\n",
        "            if not colors[i]:\n",
        "                degree = saturated_degree(graph, i, colors)\n",
        "                if degree > max_degree:\n",
        "                    max_degree = degree\n",
        "                    index = i\n",
        "        color(graph, index, colors)\n",
        "        no_of_colored_nodes += 1\n",
        "\n",
        "    return colors"
      ],
      "metadata": {
        "id": "Y_x5YC8dODC0"
      },
      "execution_count": 84,
      "outputs": []
    },
    {
      "cell_type": "markdown",
      "source": [
        "IDO раскраска (Incidence degree ordering)"
      ],
      "metadata": {
        "id": "bpj4NxdrR-Kn"
      }
    },
    {
      "cell_type": "code",
      "source": [
        "def IDO(graph: Graph):\n",
        "    colors = [0] * graph.n\n",
        "    no_of_colored_nodes = 0\n",
        "    while no_of_colored_nodes < graph.n:\n",
        "        max_degree = -1\n",
        "        index = -1\n",
        "        for i in range(graph.n):\n",
        "            if not colors[i]:\n",
        "                degree = incidence_degree(graph, i, colors)\n",
        "                if degree > max_degree:\n",
        "                    max_degree = degree\n",
        "                    index = i\n",
        "        color(graph, index, colors)\n",
        "        no_of_colored_nodes += 1\n",
        "\n",
        "    return colors"
      ],
      "metadata": {
        "id": "eTobtlSUR4lF"
      },
      "execution_count": 85,
      "outputs": []
    },
    {
      "cell_type": "markdown",
      "source": [
        "LDO раскраска (Largest degree ordering)"
      ],
      "metadata": {
        "id": "xKySHugGSayA"
      }
    },
    {
      "cell_type": "code",
      "source": [
        "def LDO(graph: Graph):\n",
        "    colors = [0] * graph.n\n",
        "    no_of_colored_nodes = 0\n",
        "    while no_of_colored_nodes < graph.n:\n",
        "        max_degree = -1\n",
        "        index = -1\n",
        "        for i in range(graph.n):\n",
        "            if not colors[i]:\n",
        "                degree = large_degree(graph, i)\n",
        "                if degree > max_degree:\n",
        "                    max_degree = degree\n",
        "                    index = i\n",
        "        color(graph, index, colors)\n",
        "        no_of_colored_nodes += 1\n",
        "\n",
        "    return colors"
      ],
      "metadata": {
        "id": "FfrFEvVBSV1F"
      },
      "execution_count": 86,
      "outputs": []
    },
    {
      "cell_type": "markdown",
      "source": [
        "Первый предложенный алгоритм (LDO + IDO)"
      ],
      "metadata": {
        "id": "JBMgtggYSLX-"
      }
    },
    {
      "cell_type": "code",
      "source": [
        "def first_proposed_algorithm(graph: Graph):\n",
        "    colors = [0] * graph.n\n",
        "    no_of_colored_nodes = 0\n",
        "    while no_of_colored_nodes < graph.n:\n",
        "        max_degree = -1\n",
        "        index = -1\n",
        "        for i in range(graph.n):\n",
        "            if not colors[i]:\n",
        "                degree = large_degree(graph, i)\n",
        "                if degree > max_degree:\n",
        "                    max_degree = degree\n",
        "                    index = i\n",
        "                if degree == max_degree:\n",
        "                    if incidence_degree(graph, i, colors) > incidence_degree(graph, index, colors):\n",
        "                        index = i\n",
        "        color(graph, index, colors)\n",
        "        no_of_colored_nodes += 1\n",
        "\n",
        "    return colors"
      ],
      "metadata": {
        "id": "jlb_7zWxSKuk"
      },
      "execution_count": 87,
      "outputs": []
    },
    {
      "cell_type": "markdown",
      "source": [
        "Второй предложенный алгоритм (SDO + LDO)"
      ],
      "metadata": {
        "id": "LQUfLvGjS7YX"
      }
    },
    {
      "cell_type": "code",
      "source": [
        "def second_proposed_algorithm(graph: Graph):\n",
        "    colors = [0] * graph.n\n",
        "    no_of_colored_nodes = 0\n",
        "    while no_of_colored_nodes < graph.n:\n",
        "        max_degree = -1\n",
        "        index = -1\n",
        "        for i in range(graph.n):\n",
        "            if not colors[i]:\n",
        "                degree = saturated_degree(graph, i, colors)\n",
        "                if degree > max_degree:\n",
        "                    max_degree = degree\n",
        "                    index = i\n",
        "                if degree == max_degree:\n",
        "                    if large_degree(graph, i) > large_degree(graph, index):\n",
        "                        index = i\n",
        "        color(graph, index, colors)\n",
        "        no_of_colored_nodes += 1\n",
        "\n",
        "    return colors"
      ],
      "metadata": {
        "id": "yhtQQ_XuSLCE"
      },
      "execution_count": 88,
      "outputs": []
    },
    {
      "cell_type": "markdown",
      "source": [
        "Создание рандомного графа с заданной плотностью"
      ],
      "metadata": {
        "id": "5TrXmZAvUpZn"
      }
    },
    {
      "cell_type": "code",
      "source": [
        "import random"
      ],
      "metadata": {
        "id": "7qk4mYWHVD_R"
      },
      "execution_count": 89,
      "outputs": []
    },
    {
      "cell_type": "code",
      "source": [
        "def make_random_graph(n: int, density: int):\n",
        "    new_graph = Graph(n)\n",
        "\n",
        "    for i in range(n):\n",
        "        for j in range(i + 1, n):\n",
        "            if random.random() < density/100:\n",
        "                new_graph.add_edge(i, j)\n",
        "\n",
        "    return new_graph"
      ],
      "metadata": {
        "id": "-VSDpadVTovV"
      },
      "execution_count": 90,
      "outputs": []
    },
    {
      "cell_type": "markdown",
      "source": [
        "Датафрейм для результатов"
      ],
      "metadata": {
        "id": "4L0Jqk2zVSPT"
      }
    },
    {
      "cell_type": "code",
      "source": [
        "import pandas as pd"
      ],
      "metadata": {
        "id": "nMJYKxJtVgB-"
      },
      "execution_count": 91,
      "outputs": []
    },
    {
      "cell_type": "code",
      "source": [
        "results = pd.DataFrame(columns=['No. of Vertices', 'Density', 'LDO', 'IDO', 'Proposed Algorithm 1', 'SDO', 'Proposed Algorithm 2'])"
      ],
      "metadata": {
        "id": "UP5rFRjLVYOu"
      },
      "execution_count": 92,
      "outputs": []
    },
    {
      "cell_type": "markdown",
      "source": [
        "Повторение результатов исследования об использовании цветов для раскраски"
      ],
      "metadata": {
        "id": "MW3O4wCgVkmQ"
      }
    },
    {
      "cell_type": "code",
      "source": [
        "densities = [25, 50, 75]\n",
        "possible_n = [200, 1000]\n",
        "\n",
        "for n in possible_n:\n",
        "    for density in densities:\n",
        "        graph = make_random_graph(n, density)\n",
        "\n",
        "        ldo = max(LDO(graph))\n",
        "        ido = max(IDO(graph))\n",
        "        first_proposed = max(first_proposed_algorithm(graph))\n",
        "        sdo = max(SDO(graph))\n",
        "        second_proposed = max(second_proposed_algorithm(graph))\n",
        "\n",
        "        results.loc[len(results.index)] = [n, density, ldo, ido, first_proposed, sdo, second_proposed]\n"
      ],
      "metadata": {
        "id": "VppOCmlxVjBn"
      },
      "execution_count": 93,
      "outputs": []
    },
    {
      "cell_type": "code",
      "source": [
        "results"
      ],
      "metadata": {
        "colab": {
          "base_uri": "https://localhost:8080/",
          "height": 238
        },
        "id": "v13WLFVUXkFN",
        "outputId": "7e97fb9c-3014-43ec-abd7-5f4772eed362"
      },
      "execution_count": 94,
      "outputs": [
        {
          "output_type": "execute_result",
          "data": {
            "text/plain": [
              "   No. of Vertices  Density  LDO  IDO  Proposed Algorithm 1  SDO  \\\n",
              "0              200       25   17   19                    17   16   \n",
              "1              200       50   34   34                    33   30   \n",
              "2              200       75   53   58                    52   54   \n",
              "3             1000       25   62   64                    62   58   \n",
              "4             1000       50  124  127                   123  115   \n",
              "5             1000       75  215  216                   212  203   \n",
              "\n",
              "   Proposed Algorithm 2  \n",
              "0                    16  \n",
              "1                    31  \n",
              "2                    51  \n",
              "3                    58  \n",
              "4                   114  \n",
              "5                   201  "
            ],
            "text/html": [
              "\n",
              "  <div id=\"df-3fedb667-6037-4644-b1bc-fad1f0c06c4c\" class=\"colab-df-container\">\n",
              "    <div>\n",
              "<style scoped>\n",
              "    .dataframe tbody tr th:only-of-type {\n",
              "        vertical-align: middle;\n",
              "    }\n",
              "\n",
              "    .dataframe tbody tr th {\n",
              "        vertical-align: top;\n",
              "    }\n",
              "\n",
              "    .dataframe thead th {\n",
              "        text-align: right;\n",
              "    }\n",
              "</style>\n",
              "<table border=\"1\" class=\"dataframe\">\n",
              "  <thead>\n",
              "    <tr style=\"text-align: right;\">\n",
              "      <th></th>\n",
              "      <th>No. of Vertices</th>\n",
              "      <th>Density</th>\n",
              "      <th>LDO</th>\n",
              "      <th>IDO</th>\n",
              "      <th>Proposed Algorithm 1</th>\n",
              "      <th>SDO</th>\n",
              "      <th>Proposed Algorithm 2</th>\n",
              "    </tr>\n",
              "  </thead>\n",
              "  <tbody>\n",
              "    <tr>\n",
              "      <th>0</th>\n",
              "      <td>200</td>\n",
              "      <td>25</td>\n",
              "      <td>17</td>\n",
              "      <td>19</td>\n",
              "      <td>17</td>\n",
              "      <td>16</td>\n",
              "      <td>16</td>\n",
              "    </tr>\n",
              "    <tr>\n",
              "      <th>1</th>\n",
              "      <td>200</td>\n",
              "      <td>50</td>\n",
              "      <td>34</td>\n",
              "      <td>34</td>\n",
              "      <td>33</td>\n",
              "      <td>30</td>\n",
              "      <td>31</td>\n",
              "    </tr>\n",
              "    <tr>\n",
              "      <th>2</th>\n",
              "      <td>200</td>\n",
              "      <td>75</td>\n",
              "      <td>53</td>\n",
              "      <td>58</td>\n",
              "      <td>52</td>\n",
              "      <td>54</td>\n",
              "      <td>51</td>\n",
              "    </tr>\n",
              "    <tr>\n",
              "      <th>3</th>\n",
              "      <td>1000</td>\n",
              "      <td>25</td>\n",
              "      <td>62</td>\n",
              "      <td>64</td>\n",
              "      <td>62</td>\n",
              "      <td>58</td>\n",
              "      <td>58</td>\n",
              "    </tr>\n",
              "    <tr>\n",
              "      <th>4</th>\n",
              "      <td>1000</td>\n",
              "      <td>50</td>\n",
              "      <td>124</td>\n",
              "      <td>127</td>\n",
              "      <td>123</td>\n",
              "      <td>115</td>\n",
              "      <td>114</td>\n",
              "    </tr>\n",
              "    <tr>\n",
              "      <th>5</th>\n",
              "      <td>1000</td>\n",
              "      <td>75</td>\n",
              "      <td>215</td>\n",
              "      <td>216</td>\n",
              "      <td>212</td>\n",
              "      <td>203</td>\n",
              "      <td>201</td>\n",
              "    </tr>\n",
              "  </tbody>\n",
              "</table>\n",
              "</div>\n",
              "    <div class=\"colab-df-buttons\">\n",
              "\n",
              "  <div class=\"colab-df-container\">\n",
              "    <button class=\"colab-df-convert\" onclick=\"convertToInteractive('df-3fedb667-6037-4644-b1bc-fad1f0c06c4c')\"\n",
              "            title=\"Convert this dataframe to an interactive table.\"\n",
              "            style=\"display:none;\">\n",
              "\n",
              "  <svg xmlns=\"http://www.w3.org/2000/svg\" height=\"24px\" viewBox=\"0 -960 960 960\">\n",
              "    <path d=\"M120-120v-720h720v720H120Zm60-500h600v-160H180v160Zm220 220h160v-160H400v160Zm0 220h160v-160H400v160ZM180-400h160v-160H180v160Zm440 0h160v-160H620v160ZM180-180h160v-160H180v160Zm440 0h160v-160H620v160Z\"/>\n",
              "  </svg>\n",
              "    </button>\n",
              "\n",
              "  <style>\n",
              "    .colab-df-container {\n",
              "      display:flex;\n",
              "      gap: 12px;\n",
              "    }\n",
              "\n",
              "    .colab-df-convert {\n",
              "      background-color: #E8F0FE;\n",
              "      border: none;\n",
              "      border-radius: 50%;\n",
              "      cursor: pointer;\n",
              "      display: none;\n",
              "      fill: #1967D2;\n",
              "      height: 32px;\n",
              "      padding: 0 0 0 0;\n",
              "      width: 32px;\n",
              "    }\n",
              "\n",
              "    .colab-df-convert:hover {\n",
              "      background-color: #E2EBFA;\n",
              "      box-shadow: 0px 1px 2px rgba(60, 64, 67, 0.3), 0px 1px 3px 1px rgba(60, 64, 67, 0.15);\n",
              "      fill: #174EA6;\n",
              "    }\n",
              "\n",
              "    .colab-df-buttons div {\n",
              "      margin-bottom: 4px;\n",
              "    }\n",
              "\n",
              "    [theme=dark] .colab-df-convert {\n",
              "      background-color: #3B4455;\n",
              "      fill: #D2E3FC;\n",
              "    }\n",
              "\n",
              "    [theme=dark] .colab-df-convert:hover {\n",
              "      background-color: #434B5C;\n",
              "      box-shadow: 0px 1px 3px 1px rgba(0, 0, 0, 0.15);\n",
              "      filter: drop-shadow(0px 1px 2px rgba(0, 0, 0, 0.3));\n",
              "      fill: #FFFFFF;\n",
              "    }\n",
              "  </style>\n",
              "\n",
              "    <script>\n",
              "      const buttonEl =\n",
              "        document.querySelector('#df-3fedb667-6037-4644-b1bc-fad1f0c06c4c button.colab-df-convert');\n",
              "      buttonEl.style.display =\n",
              "        google.colab.kernel.accessAllowed ? 'block' : 'none';\n",
              "\n",
              "      async function convertToInteractive(key) {\n",
              "        const element = document.querySelector('#df-3fedb667-6037-4644-b1bc-fad1f0c06c4c');\n",
              "        const dataTable =\n",
              "          await google.colab.kernel.invokeFunction('convertToInteractive',\n",
              "                                                    [key], {});\n",
              "        if (!dataTable) return;\n",
              "\n",
              "        const docLinkHtml = 'Like what you see? Visit the ' +\n",
              "          '<a target=\"_blank\" href=https://colab.research.google.com/notebooks/data_table.ipynb>data table notebook</a>'\n",
              "          + ' to learn more about interactive tables.';\n",
              "        element.innerHTML = '';\n",
              "        dataTable['output_type'] = 'display_data';\n",
              "        await google.colab.output.renderOutput(dataTable, element);\n",
              "        const docLink = document.createElement('div');\n",
              "        docLink.innerHTML = docLinkHtml;\n",
              "        element.appendChild(docLink);\n",
              "      }\n",
              "    </script>\n",
              "  </div>\n",
              "\n",
              "\n",
              "<div id=\"df-b6d93e07-d2be-4337-ae67-28cd21e6bb0d\">\n",
              "  <button class=\"colab-df-quickchart\" onclick=\"quickchart('df-b6d93e07-d2be-4337-ae67-28cd21e6bb0d')\"\n",
              "            title=\"Suggest charts\"\n",
              "            style=\"display:none;\">\n",
              "\n",
              "<svg xmlns=\"http://www.w3.org/2000/svg\" height=\"24px\"viewBox=\"0 0 24 24\"\n",
              "     width=\"24px\">\n",
              "    <g>\n",
              "        <path d=\"M19 3H5c-1.1 0-2 .9-2 2v14c0 1.1.9 2 2 2h14c1.1 0 2-.9 2-2V5c0-1.1-.9-2-2-2zM9 17H7v-7h2v7zm4 0h-2V7h2v10zm4 0h-2v-4h2v4z\"/>\n",
              "    </g>\n",
              "</svg>\n",
              "  </button>\n",
              "\n",
              "<style>\n",
              "  .colab-df-quickchart {\n",
              "      --bg-color: #E8F0FE;\n",
              "      --fill-color: #1967D2;\n",
              "      --hover-bg-color: #E2EBFA;\n",
              "      --hover-fill-color: #174EA6;\n",
              "      --disabled-fill-color: #AAA;\n",
              "      --disabled-bg-color: #DDD;\n",
              "  }\n",
              "\n",
              "  [theme=dark] .colab-df-quickchart {\n",
              "      --bg-color: #3B4455;\n",
              "      --fill-color: #D2E3FC;\n",
              "      --hover-bg-color: #434B5C;\n",
              "      --hover-fill-color: #FFFFFF;\n",
              "      --disabled-bg-color: #3B4455;\n",
              "      --disabled-fill-color: #666;\n",
              "  }\n",
              "\n",
              "  .colab-df-quickchart {\n",
              "    background-color: var(--bg-color);\n",
              "    border: none;\n",
              "    border-radius: 50%;\n",
              "    cursor: pointer;\n",
              "    display: none;\n",
              "    fill: var(--fill-color);\n",
              "    height: 32px;\n",
              "    padding: 0;\n",
              "    width: 32px;\n",
              "  }\n",
              "\n",
              "  .colab-df-quickchart:hover {\n",
              "    background-color: var(--hover-bg-color);\n",
              "    box-shadow: 0 1px 2px rgba(60, 64, 67, 0.3), 0 1px 3px 1px rgba(60, 64, 67, 0.15);\n",
              "    fill: var(--button-hover-fill-color);\n",
              "  }\n",
              "\n",
              "  .colab-df-quickchart-complete:disabled,\n",
              "  .colab-df-quickchart-complete:disabled:hover {\n",
              "    background-color: var(--disabled-bg-color);\n",
              "    fill: var(--disabled-fill-color);\n",
              "    box-shadow: none;\n",
              "  }\n",
              "\n",
              "  .colab-df-spinner {\n",
              "    border: 2px solid var(--fill-color);\n",
              "    border-color: transparent;\n",
              "    border-bottom-color: var(--fill-color);\n",
              "    animation:\n",
              "      spin 1s steps(1) infinite;\n",
              "  }\n",
              "\n",
              "  @keyframes spin {\n",
              "    0% {\n",
              "      border-color: transparent;\n",
              "      border-bottom-color: var(--fill-color);\n",
              "      border-left-color: var(--fill-color);\n",
              "    }\n",
              "    20% {\n",
              "      border-color: transparent;\n",
              "      border-left-color: var(--fill-color);\n",
              "      border-top-color: var(--fill-color);\n",
              "    }\n",
              "    30% {\n",
              "      border-color: transparent;\n",
              "      border-left-color: var(--fill-color);\n",
              "      border-top-color: var(--fill-color);\n",
              "      border-right-color: var(--fill-color);\n",
              "    }\n",
              "    40% {\n",
              "      border-color: transparent;\n",
              "      border-right-color: var(--fill-color);\n",
              "      border-top-color: var(--fill-color);\n",
              "    }\n",
              "    60% {\n",
              "      border-color: transparent;\n",
              "      border-right-color: var(--fill-color);\n",
              "    }\n",
              "    80% {\n",
              "      border-color: transparent;\n",
              "      border-right-color: var(--fill-color);\n",
              "      border-bottom-color: var(--fill-color);\n",
              "    }\n",
              "    90% {\n",
              "      border-color: transparent;\n",
              "      border-bottom-color: var(--fill-color);\n",
              "    }\n",
              "  }\n",
              "</style>\n",
              "\n",
              "  <script>\n",
              "    async function quickchart(key) {\n",
              "      const quickchartButtonEl =\n",
              "        document.querySelector('#' + key + ' button');\n",
              "      quickchartButtonEl.disabled = true;  // To prevent multiple clicks.\n",
              "      quickchartButtonEl.classList.add('colab-df-spinner');\n",
              "      try {\n",
              "        const charts = await google.colab.kernel.invokeFunction(\n",
              "            'suggestCharts', [key], {});\n",
              "      } catch (error) {\n",
              "        console.error('Error during call to suggestCharts:', error);\n",
              "      }\n",
              "      quickchartButtonEl.classList.remove('colab-df-spinner');\n",
              "      quickchartButtonEl.classList.add('colab-df-quickchart-complete');\n",
              "    }\n",
              "    (() => {\n",
              "      let quickchartButtonEl =\n",
              "        document.querySelector('#df-b6d93e07-d2be-4337-ae67-28cd21e6bb0d button');\n",
              "      quickchartButtonEl.style.display =\n",
              "        google.colab.kernel.accessAllowed ? 'block' : 'none';\n",
              "    })();\n",
              "  </script>\n",
              "</div>\n",
              "    </div>\n",
              "  </div>\n"
            ]
          },
          "metadata": {},
          "execution_count": 94
        }
      ]
    }
  ]
}